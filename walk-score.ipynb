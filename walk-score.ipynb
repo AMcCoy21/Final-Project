{
 "cells": [
  {
   "cell_type": "markdown",
   "metadata": {},
   "source": [
    "## Dataset 2- Aiden McCoy\n",
    "\n",
    "My dataset is called Allegheny County Walk Scores. This dataset assigns a walk score to every census tract in Allegheny County. Walk score measures \n",
    "the walkability of any address using a patented system developed by the Walk Score company. These walk scores give a good indication about how good\n",
    "the location is for each neighborhood. Having a convenient location is a very important factor when deciding where to live, so we used it as one of \n",
    "our main factors for determining the best neighborhood. The code below takes the dataset, sorts it by walkscore, and creates a new column ranking the \n",
    "census tracts by walk score.\n"
   ]
  },
  {
   "cell_type": "code",
   "execution_count": 7,
   "metadata": {},
   "outputs": [
    {
     "data": {
      "text/html": [
       "<div>\n",
       "<style scoped>\n",
       "    .dataframe tbody tr th:only-of-type {\n",
       "        vertical-align: middle;\n",
       "    }\n",
       "\n",
       "    .dataframe tbody tr th {\n",
       "        vertical-align: top;\n",
       "    }\n",
       "\n",
       "    .dataframe thead th {\n",
       "        text-align: right;\n",
       "    }\n",
       "</style>\n",
       "<table border=\"1\" class=\"dataframe\">\n",
       "  <thead>\n",
       "    <tr style=\"text-align: right;\">\n",
       "      <th></th>\n",
       "      <th>Census Tract</th>\n",
       "      <th>Walk Score</th>\n",
       "      <th>Walk Rank</th>\n",
       "    </tr>\n",
       "  </thead>\n",
       "  <tbody>\n",
       "    <tr>\n",
       "      <th>1</th>\n",
       "      <td>20100</td>\n",
       "      <td>100</td>\n",
       "      <td>1</td>\n",
       "    </tr>\n",
       "    <tr>\n",
       "      <th>177</th>\n",
       "      <td>445500</td>\n",
       "      <td>97</td>\n",
       "      <td>2</td>\n",
       "    </tr>\n",
       "    <tr>\n",
       "      <th>16</th>\n",
       "      <td>70300</td>\n",
       "      <td>91</td>\n",
       "      <td>3</td>\n",
       "    </tr>\n",
       "    <tr>\n",
       "      <th>14</th>\n",
       "      <td>60300</td>\n",
       "      <td>91</td>\n",
       "      <td>4</td>\n",
       "    </tr>\n",
       "    <tr>\n",
       "      <th>20</th>\n",
       "      <td>70900</td>\n",
       "      <td>89</td>\n",
       "      <td>5</td>\n",
       "    </tr>\n",
       "    <tr>\n",
       "      <th>...</th>\n",
       "      <td>...</td>\n",
       "      <td>...</td>\n",
       "      <td>...</td>\n",
       "    </tr>\n",
       "    <tr>\n",
       "      <th>194</th>\n",
       "      <td>456003</td>\n",
       "      <td>2</td>\n",
       "      <td>398</td>\n",
       "    </tr>\n",
       "    <tr>\n",
       "      <th>121</th>\n",
       "      <td>409000</td>\n",
       "      <td>2</td>\n",
       "      <td>399</td>\n",
       "    </tr>\n",
       "    <tr>\n",
       "      <th>116</th>\n",
       "      <td>406000</td>\n",
       "      <td>0</td>\n",
       "      <td>400</td>\n",
       "    </tr>\n",
       "    <tr>\n",
       "      <th>189</th>\n",
       "      <td>452000</td>\n",
       "      <td>0</td>\n",
       "      <td>401</td>\n",
       "    </tr>\n",
       "    <tr>\n",
       "      <th>344</th>\n",
       "      <td>526102</td>\n",
       "      <td>0</td>\n",
       "      <td>402</td>\n",
       "    </tr>\n",
       "  </tbody>\n",
       "</table>\n",
       "<p>402 rows × 3 columns</p>\n",
       "</div>"
      ],
      "text/plain": [
       "     Census Tract  Walk Score  Walk Rank\n",
       "1           20100         100          1\n",
       "177        445500          97          2\n",
       "16          70300          91          3\n",
       "14          60300          91          4\n",
       "20          70900          89          5\n",
       "..            ...         ...        ...\n",
       "194        456003           2        398\n",
       "121        409000           2        399\n",
       "116        406000           0        400\n",
       "189        452000           0        401\n",
       "344        526102           0        402\n",
       "\n",
       "[402 rows x 3 columns]"
      ]
     },
     "metadata": {},
     "output_type": "display_data"
    }
   ],
   "source": [
    "#Walk Score\n",
    "import pandas as pd\n",
    "\n",
    "walkScore = pd.read_csv('walkscorect.xls-walk-score-by-ct.csv')\n",
    "\n",
    "walkScoreSorted = walkScore.sort_values(by='Walk Score', ascending=False)\n",
    "walkScoreSorted['Walk Rank'] = range(1, 403)\n",
    "\n",
    "display(walkScoreSorted)\n"
   ]
  },
  {
   "cell_type": "markdown",
   "metadata": {},
   "source": [
    "The code below creates a graph that shows the top 18 census tracts by walkscore."
   ]
  },
  {
   "cell_type": "code",
   "execution_count": 8,
   "metadata": {},
   "outputs": [
    {
     "data": {
      "image/png": "[encoded data removed]",
      "text/plain": [
       "<Figure size 432x288 with 1 Axes>"
      ]
     },
     "metadata": {
      "needs_background": "light"
     },
     "output_type": "display_data"
    }
   ],
   "source": [
    "## Top Walk Scores by Census Tract\n",
    "\n",
    "\n",
    "import matplotlib.pyplot as plt\n",
    "\n",
    "walkScoreSorted80 = walkScoreSorted[walkScoreSorted[\"Walk Score\"] >= 85]\n",
    "walkScoreSorted80.plot(x=\"Census Tract\", y=\"Walk Score\", kind=\"bar\", legend=False)\n",
    "plt.title(\"Walk Score by Census Tract\")\n",
    "plt.xlabel(\"Census Tract\")\n",
    "plt.ylabel(\"Walk Score\")\n",
    "plt.ylim(75,100)\n",
    "plt.show()\n"
   ]
  },
  {
   "cell_type": "markdown",
   "metadata": {},
   "source": [
    "## Walk Score Conclusion\n",
    "\n",
    "The area with the best Walk score was downtown Pittsburgh (20100), which makes sense, given that the inner city is more densely packed with things to do. Many of the other top walk scores were also located near the inner city. The top 3 census tracts for walkscore were as follows:\n",
    "\n",
    "\n",
    "1. Census Tract 20100- Downtown Pittsburgh\n",
    "2. Census Tract 445500- Sewickley\n",
    "3. Census Tract 70300- Shadyside\n",
    "\n",
    "\n",
    "\n"
   ]
  },
  {
   "cell_type": "code",
   "execution_count": null,
   "metadata": {},
   "outputs": [],
   "source": []
  }
 ],
 "metadata": {
  "kernelspec": {
   "display_name": "Python 3",
   "language": "python",
   "name": "python3"
  },
  "language_info": {
   "codemirror_mode": {
    "name": "ipython",
    "version": 3
   },
   "file_extension": ".py",
   "mimetype": "text/x-python",
   "name": "python",
   "nbconvert_exporter": "python",
   "pygments_lexer": "ipython3",
   "version": "3.8.3"
  }
 },
 "nbformat": 4,
 "nbformat_minor": 4
}
