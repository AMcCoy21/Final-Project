{
 "cells": [
  {
   "cell_type": "markdown",
   "metadata": {},
   "source": [
    "# The best neighborhood to live in Pittsburgh \n",
    "# By: Aiden McCoy, Aidan Krieger, and Trystin DeRemer\n",
    "\n",
    "## Introduction\n",
    "\n",
    "For our project, we wanted to find out what was the best neighborhood to live in Pittsburgh. To do this, we looked through 3 different data sets and combined the data in order to determine which one was best. \n",
    "\n"
   ]
  },
  {
   "cell_type": "markdown",
   "metadata": {},
   "source": [
    "## Dataset 1- Trystin DeRemer\n",
    "\n",
    "My dataset is called Environmental Justice Areas Data. This dataset goes through all of the census tracts (subdivisons of counties) in Pittsburgh and shows whether or not it is an Environmental Justice Area. An Environmental Justice Area where at least 20 percent of the population lives in poverty. When trying to find the best neighborhood to live in Pittsburgh, we wanted to make sure it is not in an area where poverty is a big problem. The code below goes through the data set, filters out the Environmental Justice Areas, and prints a list of the census tracts which are not environmental justice areas. "
   ]
  },
  {
   "cell_type": "code",
   "execution_count": 5,
   "metadata": {},
   "outputs": [
    {
     "name": "stdout",
     "output_type": "stream",
     "text": [
      "     FID   TRACT  EJ_Area\n",
      "0      0   20300        0\n",
      "1      1   40400        1\n",
      "2      2   70900        1\n",
      "3      3  110200        1\n",
      "4      4  140500        1\n",
      "..   ...     ...      ...\n",
      "388  388  486700        1\n",
      "389  389  504100        1\n",
      "390  390   10300        1\n",
      "391  391   50900        1\n",
      "392  392  101800        0\n",
      "\n",
      "[393 rows x 3 columns]\n",
      "[20300, 190300, 270100, 402000, 411000, 417100, 428100, 431100, 405000, 407002, 412002, 415002, 419000, 425000, 426700, 427000, 429300, 430100, 434000, 439000, 449000, 451104, 451300, 453004, 458000, 459201, 468800, 472400, 473300, 474102, 475303, 475401, 476200, 480300, 484300, 487000, 488300, 488400, 488500, 488600, 490003, 490004, 491200, 495000, 496101, 496102, 516100, 521200, 521302, 521500, 523702, 525300, 526301, 560500, 563900, 980100, 980700, 310300, 446000, 469000, 473602, 60500, 140800, 141300, 191400, 191700, 241200, 270800, 290100, 281500, 423000, 482500, 494000, 507000, 80600, 80200, 141100, 417200, 460002, 468900, 480102, 515401, 981100, 490002, 516200, 464300, 465600, 472200, 564100, 474203, 70300, 140300, 151700, 191100, 320600, 406000, 410000, 413400, 418000, 420000, 429201, 430200, 450700, 455000, 459202, 471000, 472100, 473500, 475301, 478100, 501000, 521100, 525100, 526302, 564200, 982200, 451102, 451105, 452000, 453003, 456004, 457200, 459101, 459102, 461000, 465800, 468700, 470300, 470400, 470502, 473100, 473200, 473401, 474101, 474202, 475101, 475200, 476100, 70600, 101400, 110600, 140400, 140600, 141000, 475304, 141400, 191800, 192000, 290400, 310200, 477100, 477300, 479000, 480200, 480400, 484500, 485000, 497000, 499300, 499400, 519000, 520002, 521301, 521402, 522000, 320400, 401300, 404000, 407001, 409000, 412001, 413100, 413201, 414101, 414200, 509400, 523701, 526101, 526202, 551300, 415001, 416000, 421200, 422000, 426300, 523800, 525200, 426800, 427100, 427200, 429202, 562800, 563100, 563300, 563800, 429600, 431400, 431500, 435000, 447000, 448000, 564000, 980000, 460001, 503002, 401100, 408001, 413300, 426400, 429400, 445500, 473601, 80900, 140200, 261200, 320700, 90200, 151600, 202300, 191900, 408002, 428200, 429100, 429700, 432300, 437000, 456001, 473402, 475102, 478200, 484600, 414102, 488200, 489001, 491101, 496200, 498000, 413202, 421100, 429500, 457100, 526102, 520001, 477200, 488100, 489002, 500300, 518001, 523502, 564500, 521401, 526201, 564400, 451101, 456003, 472300, 474201, 475402, 101800]\n"
     ]
    }
   ],
   "source": [
    "#EJ\n",
    "import pandas as pd \n",
    "\n",
    "justiceTracts = pd.read_csv('acenvirojusticetracts.csv')\n",
    "print(justiceTracts)\n",
    "filteredData = justiceTracts[justiceTracts['EJ_Area'] == 0]\n",
    "\n",
    "tractList = filteredData['TRACT'].tolist()\n",
    "\n",
    "print(tractList)\n"
   ]
  },
  {
   "cell_type": "markdown",
   "metadata": {},
   "source": [
    "## Dataset 2- Aiden McCoy\n",
    "\n",
    "My dataset is called Allegheny County Walk Scores. This dataset assigns a walk score to every census tract in Allegheny County. Walk scores measures the walkability of any address using a patented system developed by the Walk Score company. These walk scores give a good indictaion about how good the location is for each neighborhood. Having a conveinent location is a very important factor when deciding where to live, so we used it as one of our main factors for determining the best neighborhood. The code above takes the dataset, sorts it by walkscore, and creates a new column ranking the census tracts by walk score"
   ]
  },
  {
   "cell_type": "code",
   "execution_count": 3,
   "metadata": {},
   "outputs": [
    {
     "name": "stdout",
     "output_type": "stream",
     "text": [
      "     Census Tract  Walk Score  Walk Rank\n",
      "1           20100         100          1\n",
      "177        445500          97          2\n",
      "16          70300          91          3\n",
      "14          60300          91          4\n",
      "20          70900          89          5\n",
      "..            ...         ...        ...\n",
      "194        456003           2        398\n",
      "121        409000           2        399\n",
      "116        406000           0        400\n",
      "189        452000           0        401\n",
      "344        526102           0        402\n",
      "\n",
      "[402 rows x 3 columns]\n"
     ]
    }
   ],
   "source": [
    "#Walk Score\n",
    "import pandas as pd\n",
    "\n",
    "walkScore = pd.read_csv('walkscorect.xls-walk-score-by-ct.csv')\n",
    "\n",
    "walkScoreSorted = walkScore.sort_values(by='Walk Score', ascending=False)\n",
    "walkScoreSorted['Walk Rank'] = range(1, 403)\n",
    "\n",
    "print(walkScoreSorted)\n",
    "\n"
   ]
  },
  {
   "cell_type": "markdown",
   "metadata": {},
   "source": [
    "## Dataset 3- Aidan Krieger\n",
    "\n",
    "My dataset is called 'Housing Prices by Price Range 2021'. This dataset goes through every census tract in Allegheny County, takes the number of sales of 1-2 unit non condominium properties, and sorts them into price ranges. Hosuing prices are another very important factor when deciding where to live, so we used this as the final metric. The code above first reformats the census tract to match the other datasets. Then, it removes census tracts with less than 20 total houses, in order to eliminate outliers. Next, it finds the percentage of sales in each price range, and assigns a multiplier to each value. Then, it adds up these values to give each census tract a housing cost score. Finally, it sorts the data by score and creates a new colunm ranking the census tracts by score."
   ]
  },
  {
   "cell_type": "code",
   "execution_count": 14,
   "metadata": {},
   "outputs": [
    {
     "name": "stdout",
     "output_type": "stream",
     "text": [
      "     Census Tract  Under $50K  $50K to $100K  $100K to $150K  $150K to $200K  \\\n",
      "6           40900           1              3               4               3   \n",
      "8           50600           4             13               2               2   \n",
      "11          60300           0              2               3               7   \n",
      "17          70900           0              0               0               0   \n",
      "23          90100           0              2               3               6   \n",
      "..            ...         ...            ...             ...             ...   \n",
      "377        563800           4              0               5               6   \n",
      "378        563900           8             15              13              15   \n",
      "379        564000           1              5               3               1   \n",
      "382        564400          12             22              21              11   \n",
      "383        564500           1              2               8               8   \n",
      "\n",
      "     $200K to $250K  $250K to $300K  $300K to $350K  $350K to $400K  \\\n",
      "6                 8               4               1               0   \n",
      "8                 0               1               0               0   \n",
      "11                3               4               0               4   \n",
      "17                0               1               2               4   \n",
      "23                5               4               3               3   \n",
      "..              ...             ...             ...             ...   \n",
      "377               7               1               2               2   \n",
      "378               4               1               0               0   \n",
      "379              11              14               3              15   \n",
      "382               2               2               0               0   \n",
      "383               6               3               0               0   \n",
      "\n",
      "     $400K to $450K  $450K to $500K  Over $500K  Total  \n",
      "6                 0               0           0     24  \n",
      "8                 0               0           1     23  \n",
      "11                5               2          13     43  \n",
      "17                2               2          11     22  \n",
      "23                1               2           2     31  \n",
      "..              ...             ...         ...    ...  \n",
      "377               0               0           6     33  \n",
      "378               0               0           0     56  \n",
      "379              11               7           5     76  \n",
      "382               0               0           0     70  \n",
      "383               0               2           0     30  \n",
      "\n",
      "[271 rows x 13 columns]\n",
      "-------------------------------------------------------\n",
      "     Census Tract  Percentage Under $50K  Percentage $50K to $100K  \\\n",
      "6           40900              11.458333                 31.250000   \n",
      "8           50600              47.826087                141.304348   \n",
      "11          60300               0.000000                 11.627907   \n",
      "17          70900               0.000000                  0.000000   \n",
      "23          90100               0.000000                 16.129032   \n",
      "..            ...                    ...                       ...   \n",
      "377        563800              33.333333                  0.000000   \n",
      "378        563900              39.285714                 66.964286   \n",
      "379        564000               3.618421                 16.447368   \n",
      "382        564400              47.142857                 78.571429   \n",
      "383        564500               9.166667                 16.666667   \n",
      "\n",
      "     Percentage $100K to $150K  Percentage $150K to $200K  \\\n",
      "6                    37.500000                  25.000000   \n",
      "8                    19.565217                  17.391304   \n",
      "11                   15.697674                  32.558140   \n",
      "17                    0.000000                   0.000000   \n",
      "23                   21.774194                  38.709677   \n",
      "..                         ...                        ...   \n",
      "377                  34.090909                  36.363636   \n",
      "378                  52.232143                  53.571429   \n",
      "379                   8.881579                   2.631579   \n",
      "382                  67.500000                  31.428571   \n",
      "383                  60.000000                  53.333333   \n",
      "\n",
      "     Percentage $200K to $250K  Percentage $250K to $300K  \\\n",
      "6                    58.333333                  25.000000   \n",
      "8                     0.000000                   6.521739   \n",
      "11                   12.209302                  13.953488   \n",
      "17                    0.000000                   6.818182   \n",
      "23                   28.225806                  19.354839   \n",
      "..                         ...                        ...   \n",
      "377                  37.121212                   4.545455   \n",
      "378                  12.500000                   2.678571   \n",
      "379                  25.328947                  27.631579   \n",
      "382                   5.000000                   4.285714   \n",
      "383                  35.000000                  15.000000   \n",
      "\n",
      "     Percentage $300K to $350K  Percentage $350K to $400K  \\\n",
      "6                     5.208333                   0.000000   \n",
      "8                     0.000000                   0.000000   \n",
      "11                    0.000000                   9.302326   \n",
      "17                   11.363636                  18.181818   \n",
      "23                   12.096774                   9.677419   \n",
      "..                         ...                        ...   \n",
      "377                   7.575758                   6.060606   \n",
      "378                   0.000000                   0.000000   \n",
      "379                   4.934211                  19.736842   \n",
      "382                   0.000000                   0.000000   \n",
      "383                   0.000000                   0.000000   \n",
      "\n",
      "     Percentage $400K to $450K  Percentage $450K to $500K  \\\n",
      "6                     0.000000                   0.000000   \n",
      "8                     0.000000                   0.000000   \n",
      "11                    8.720930                   2.325581   \n",
      "17                    6.818182                   4.545455   \n",
      "23                    2.419355                   3.225806   \n",
      "..                         ...                        ...   \n",
      "377                   0.000000                   0.000000   \n",
      "378                   0.000000                   0.000000   \n",
      "379                  10.855263                   4.605263   \n",
      "382                   0.000000                   0.000000   \n",
      "383                   0.000000                   3.333333   \n",
      "\n",
      "     Percentage Over $500K  Housing Cost Score  \n",
      "6                 0.000000          193.750000  \n",
      "8                 1.086957          233.695652  \n",
      "11                7.558140          113.953488  \n",
      "17               12.500000           60.227273  \n",
      "23                1.612903          153.225806  \n",
      "..                     ...                 ...  \n",
      "377               4.545455          163.636364  \n",
      "378               0.000000          227.232143  \n",
      "379               1.644737          126.315789  \n",
      "382               0.000000          233.928571  \n",
      "383               0.000000          192.500000  \n",
      "\n",
      "[271 rows x 13 columns]\n",
      "-------------------------------------------------------\n",
      "     Census Tract  Housing Cost Score  House Rank\n",
      "352        552300          275.000000           1\n",
      "345        550900          271.590909           2\n",
      "349        552000          271.000000           3\n",
      "266        486900          268.181818           4\n",
      "300        510000          267.708333           5\n",
      "..            ...                 ...         ...\n",
      "120        411000           69.675926         267\n",
      "49         140400           62.500000         268\n",
      "17          70900           60.227273         269\n",
      "118        409000           58.461538         270\n",
      "142        422000           37.500000         271\n",
      "\n",
      "[271 rows x 3 columns]\n"
     ]
    },
    {
     "name": "stderr",
     "output_type": "stream",
     "text": [
      "<ipython-input-14-4f693fb40391>:17: SettingWithCopyWarning: \n",
      "A value is trying to be set on a copy of a slice from a DataFrame.\n",
      "Try using .loc[row_indexer,col_indexer] = value instead\n",
      "\n",
      "See the caveats in the documentation: https://pandas.pydata.org/pandas-docs/stable/user_guide/indexing.html#returning-a-view-versus-a-copy\n",
      "  percentageHousingCosts['Housing Cost Score'] = percentageHousingCosts.iloc[:, 1:].sum(axis=1).copy()\n"
     ]
    }
   ],
   "source": [
    "#Housing Costs\n",
    "import pandas as pd\n",
    "import numpy as np\n",
    "\n",
    "housingCosts = pd.read_csv('housingpricebuckets2021.csv')\n",
    "housingCosts = housingCosts.rename(columns={'Row Labels': 'Census Tract'})\n",
    "housingCosts['Census Tract'] = housingCosts['Census Tract'] - 42003000000\n",
    "filteredhousingCosts = housingCosts[housingCosts['Total'] > 20].copy()\n",
    "print(filteredhousingCosts)\n",
    "print(\"-------------------------------------------------------\")\n",
    "columnsForPercentage = filteredhousingCosts.columns[1:12]\n",
    "i = 2.75\n",
    "for column in columnsForPercentage:\n",
    "    filteredhousingCosts[f'Percentage {column}'] = (filteredhousingCosts[column] / filteredhousingCosts['Total']) * 100 * i \n",
    "    i-=0.25\n",
    "percentageHousingCosts = filteredhousingCosts[['Census Tract'] + [f'Percentage {column}' for column in columnsForPercentage]]\n",
    "percentageHousingCosts['Housing Cost Score'] = percentageHousingCosts.iloc[:, 1:].sum(axis=1).copy()\n",
    "print(percentageHousingCosts)\n",
    "print(\"-------------------------------------------------------\")\n",
    "HouseScoreSorted = percentageHousingCosts.sort_values(by='Housing Cost Score', ascending=False)\n",
    "HouseScoreSorted['House Rank'] = range(1,272)\n",
    "HouseScoreSorted = HouseScoreSorted.drop(columns=[f'Percentage {column}' for column in columnsForPercentage[:]])                                        \n",
    "print(HouseScoreSorted)"
   ]
  },
  {
   "cell_type": "markdown",
   "metadata": {},
   "source": [
    "## Data Combination\n",
    "\n",
    "The code above combines the 3 datasets together in order to get the final results. The code first merges the walk score data table and housing cost data table based on census tract. It then removes the tract numbers that only appeared on of the datasets. It then avereges out the ranks of the walk score and house score and sorts the average rank from lowest to highest. Finally, it removes the tract numbers of EJ areas from the first dataset.\n"
   ]
  },
  {
   "cell_type": "code",
   "execution_count": 8,
   "metadata": {},
   "outputs": [
    {
     "name": "stdout",
     "output_type": "stream",
     "text": [
      "     Census Tract  Walk Score  Walk Rank  Housing Cost Score  House Rank  \\\n",
      "32         290400          65         81          235.975610          59   \n",
      "55         484300          55        117          254.411765          28   \n",
      "46         320400          57        106          239.583333          48   \n",
      "29         191900          65         78          224.193548          78   \n",
      "9          472300          77         33          197.826087         132   \n",
      "..            ...         ...        ...                 ...         ...   \n",
      "244        411000          11        364           69.675926         267   \n",
      "268        456003           2        398          120.075758         238   \n",
      "259        412002           5        384           93.243243         257   \n",
      "258        422000           6        383           37.500000         271   \n",
      "269        409000           2        399           58.461538         270   \n",
      "\n",
      "     Average Rank  \n",
      "32           70.0  \n",
      "55           72.5  \n",
      "46           77.0  \n",
      "29           78.0  \n",
      "9            82.5  \n",
      "..            ...  \n",
      "244         315.5  \n",
      "268         318.0  \n",
      "259         320.5  \n",
      "258         327.0  \n",
      "269         334.5  \n",
      "\n",
      "[201 rows x 6 columns]\n"
     ]
    }
   ],
   "source": [
    "mergedData = pd.merge(walkScoreSorted, HouseScoreSorted, on='Census Tract', how='inner')\n",
    "walkScoreFiltered = walkScoreSorted[walkScoreSorted['Census Tract'].isin(mergedData['Census Tract'])]\n",
    "HousingCostsFiltered = percentageHousingCosts[percentageHousingCosts['Census Tract'].isin(mergedData['Census Tract'])]\n",
    "mergedData['Average Rank'] = mergedData[['Walk Rank', 'House Rank']].mean(axis=1)\n",
    "mergedData = mergedData.sort_values(by='Average Rank', ascending=True)\n",
    "mergedData = mergedData[mergedData['Census Tract'].isin(tractList)] \n",
    "\n",
    "print(mergedData)"
   ]
  },
  {
   "cell_type": "markdown",
   "metadata": {},
   "source": [
    "## Results\n",
    "\n",
    "The Top 3 neighborhoods were as follows\n",
    "\n",
    "1. Census tract 290400- North Brentwood\n",
    "2. Census tract 484300- East Homestead\n",
    "3. Census tract 320400- NorthWest Brentwood\n",
    "\n",
    "The first and third ranked areas were neighboring census tracts, showing that Brentwood is likely the best neighborhood to live in Pittsburgh."
   ]
  },
  {
   "cell_type": "code",
   "execution_count": null,
   "metadata": {},
   "outputs": [],
   "source": []
  }
 ],
 "metadata": {
  "kernelspec": {
   "display_name": "Python 3",
   "language": "python",
   "name": "python3"
  },
  "language_info": {
   "codemirror_mode": {
    "name": "ipython",
    "version": 3
   },
   "file_extension": ".py",
   "mimetype": "text/x-python",
   "name": "python",
   "nbconvert_exporter": "python",
   "pygments_lexer": "ipython3",
   "version": "3.8.3"
  }
 },
 "nbformat": 4,
 "nbformat_minor": 4
}
