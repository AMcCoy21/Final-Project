{
 "cells": [
  {
   "cell_type": "markdown",
   "metadata": {},
   "source": [
    "## Dataset 1- Trystin DeRemer\n",
    "\n",
    "My dataset is called Environmental Justice Areas Data. This dataset goes through all of the census tracts (subdivisions of counties) in Pittsburgh and shows whether or not it is an Environmental Justice Area. An Environmental Justice Area where at least 20 percent of the population lives in poverty. When trying to find the best neighborhood to live in Pittsburgh, we wanted to make sure it is not in an area where poverty is a big problem. The code below goes through the data set, filters out the Environmental Justice Areas, and prints a list of the census tracts which are not environmental justice areas. \n"
   ]
  },
  {
   "cell_type": "code",
   "execution_count": 1,
   "metadata": {},
   "outputs": [
    {
     "data": {
      "text/html": [
       "<div>\n",
       "<style scoped>\n",
       "    .dataframe tbody tr th:only-of-type {\n",
       "        vertical-align: middle;\n",
       "    }\n",
       "\n",
       "    .dataframe tbody tr th {\n",
       "        vertical-align: top;\n",
       "    }\n",
       "\n",
       "    .dataframe thead th {\n",
       "        text-align: right;\n",
       "    }\n",
       "</style>\n",
       "<table border=\"1\" class=\"dataframe\">\n",
       "  <thead>\n",
       "    <tr style=\"text-align: right;\">\n",
       "      <th></th>\n",
       "      <th>FID</th>\n",
       "      <th>TRACT</th>\n",
       "      <th>EJ_Area</th>\n",
       "    </tr>\n",
       "  </thead>\n",
       "  <tbody>\n",
       "    <tr>\n",
       "      <th>0</th>\n",
       "      <td>0</td>\n",
       "      <td>20300</td>\n",
       "      <td>0</td>\n",
       "    </tr>\n",
       "    <tr>\n",
       "      <th>1</th>\n",
       "      <td>1</td>\n",
       "      <td>40400</td>\n",
       "      <td>1</td>\n",
       "    </tr>\n",
       "    <tr>\n",
       "      <th>2</th>\n",
       "      <td>2</td>\n",
       "      <td>70900</td>\n",
       "      <td>1</td>\n",
       "    </tr>\n",
       "    <tr>\n",
       "      <th>3</th>\n",
       "      <td>3</td>\n",
       "      <td>110200</td>\n",
       "      <td>1</td>\n",
       "    </tr>\n",
       "    <tr>\n",
       "      <th>4</th>\n",
       "      <td>4</td>\n",
       "      <td>140500</td>\n",
       "      <td>1</td>\n",
       "    </tr>\n",
       "    <tr>\n",
       "      <th>...</th>\n",
       "      <td>...</td>\n",
       "      <td>...</td>\n",
       "      <td>...</td>\n",
       "    </tr>\n",
       "    <tr>\n",
       "      <th>388</th>\n",
       "      <td>388</td>\n",
       "      <td>486700</td>\n",
       "      <td>1</td>\n",
       "    </tr>\n",
       "    <tr>\n",
       "      <th>389</th>\n",
       "      <td>389</td>\n",
       "      <td>504100</td>\n",
       "      <td>1</td>\n",
       "    </tr>\n",
       "    <tr>\n",
       "      <th>390</th>\n",
       "      <td>390</td>\n",
       "      <td>10300</td>\n",
       "      <td>1</td>\n",
       "    </tr>\n",
       "    <tr>\n",
       "      <th>391</th>\n",
       "      <td>391</td>\n",
       "      <td>50900</td>\n",
       "      <td>1</td>\n",
       "    </tr>\n",
       "    <tr>\n",
       "      <th>392</th>\n",
       "      <td>392</td>\n",
       "      <td>101800</td>\n",
       "      <td>0</td>\n",
       "    </tr>\n",
       "  </tbody>\n",
       "</table>\n",
       "<p>393 rows × 3 columns</p>\n",
       "</div>"
      ],
      "text/plain": [
       "     FID   TRACT  EJ_Area\n",
       "0      0   20300        0\n",
       "1      1   40400        1\n",
       "2      2   70900        1\n",
       "3      3  110200        1\n",
       "4      4  140500        1\n",
       "..   ...     ...      ...\n",
       "388  388  486700        1\n",
       "389  389  504100        1\n",
       "390  390   10300        1\n",
       "391  391   50900        1\n",
       "392  392  101800        0\n",
       "\n",
       "[393 rows x 3 columns]"
      ]
     },
     "metadata": {},
     "output_type": "display_data"
    },
    {
     "name": "stdout",
     "output_type": "stream",
     "text": [
      "[20300, 190300, 270100, 402000, 411000, 417100, 428100, 431100, 405000, 407002, 412002, 415002, 419000, 425000, 426700, 427000, 429300, 430100, 434000, 439000, 449000, 451104, 451300, 453004, 458000, 459201, 468800, 472400, 473300, 474102, 475303, 475401, 476200, 480300, 484300, 487000, 488300, 488400, 488500, 488600, 490003, 490004, 491200, 495000, 496101, 496102, 516100, 521200, 521302, 521500, 523702, 525300, 526301, 560500, 563900, 980100, 980700, 310300, 446000, 469000, 473602, 60500, 140800, 141300, 191400, 191700, 241200, 270800, 290100, 281500, 423000, 482500, 494000, 507000, 80600, 80200, 141100, 417200, 460002, 468900, 480102, 515401, 981100, 490002, 516200, 464300, 465600, 472200, 564100, 474203, 70300, 140300, 151700, 191100, 320600, 406000, 410000, 413400, 418000, 420000, 429201, 430200, 450700, 455000, 459202, 471000, 472100, 473500, 475301, 478100, 501000, 521100, 525100, 526302, 564200, 982200, 451102, 451105, 452000, 453003, 456004, 457200, 459101, 459102, 461000, 465800, 468700, 470300, 470400, 470502, 473100, 473200, 473401, 474101, 474202, 475101, 475200, 476100, 70600, 101400, 110600, 140400, 140600, 141000, 475304, 141400, 191800, 192000, 290400, 310200, 477100, 477300, 479000, 480200, 480400, 484500, 485000, 497000, 499300, 499400, 519000, 520002, 521301, 521402, 522000, 320400, 401300, 404000, 407001, 409000, 412001, 413100, 413201, 414101, 414200, 509400, 523701, 526101, 526202, 551300, 415001, 416000, 421200, 422000, 426300, 523800, 525200, 426800, 427100, 427200, 429202, 562800, 563100, 563300, 563800, 429600, 431400, 431500, 435000, 447000, 448000, 564000, 980000, 460001, 503002, 401100, 408001, 413300, 426400, 429400, 445500, 473601, 80900, 140200, 261200, 320700, 90200, 151600, 202300, 191900, 408002, 428200, 429100, 429700, 432300, 437000, 456001, 473402, 475102, 478200, 484600, 414102, 488200, 489001, 491101, 496200, 498000, 413202, 421100, 429500, 457100, 526102, 520001, 477200, 488100, 489002, 500300, 518001, 523502, 564500, 521401, 526201, 564400, 451101, 456003, 472300, 474201, 475402, 101800]\n"
     ]
    }
   ],
   "source": [
    "#EJ\n",
    "import pandas as pd \n",
    "\n",
    "justiceTracts = pd.read_csv('acenvirojusticetracts.csv')\n",
    "display(justiceTracts)\n",
    "\n",
    "filteredData = justiceTracts[justiceTracts['EJ_Area'] == 0]\n",
    "\n",
    "tractList = filteredData['TRACT'].tolist()\n",
    "\n",
    "print(tractList)"
   ]
  },
  {
   "cell_type": "markdown",
   "metadata": {},
   "source": [
    "## Pie Chart\n",
    "\n",
    "This pie chart shows the percentage of Census Tracts in Allegheny County that are an EJ Area as well as the percentage of those who aren't. The green shows the percentage of census tracts that will be used in our calculations."
   ]
  },
  {
   "cell_type": "code",
   "execution_count": 2,
   "metadata": {},
   "outputs": [
    {
     "data": {
      "image/png": "[encoded data removed]",
      "text/plain": [
       "<Figure size 432x288 with 1 Axes>"
      ]
     },
     "metadata": {},
     "output_type": "display_data"
    }
   ],
   "source": [
    "import matplotlib.pyplot as plt\n",
    "\n",
    "ej0 = justiceTracts[justiceTracts['EJ_Area'] == 0]\n",
    "ej1 = justiceTracts[justiceTracts['EJ_Area'] == 1]\n",
    "labels = ['EJ Area', 'Not EJ Area ']\n",
    "sizes = [len(ej0), len(ej1)]\n",
    "plt.pie(sizes, labels=labels, autopct='%1.1f%%', startangle=90, colors=['green', 'red'])\n",
    "plt.title('Distribution of EJ_Area')\n",
    "plt.show()\n"
   ]
  },
  {
   "cell_type": "code",
   "execution_count": null,
   "metadata": {},
   "outputs": [],
   "source": []
  }
 ],
 "metadata": {
  "kernelspec": {
   "display_name": "Python 3",
   "language": "python",
   "name": "python3"
  },
  "language_info": {
   "codemirror_mode": {
    "name": "ipython",
    "version": 3
   },
   "file_extension": ".py",
   "mimetype": "text/x-python",
   "name": "python",
   "nbconvert_exporter": "python",
   "pygments_lexer": "ipython3",
   "version": "3.8.3"
  }
 },
 "nbformat": 4,
 "nbformat_minor": 4
}
